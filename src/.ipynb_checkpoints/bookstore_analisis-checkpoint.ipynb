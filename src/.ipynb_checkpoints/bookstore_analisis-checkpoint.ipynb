{
 "cells": [
  {
   "cell_type": "markdown",
   "id": "3435d49e",
   "metadata": {
    "heading_collapsed": true
   },
   "source": [
    "# Import"
   ]
  },
  {
   "cell_type": "code",
   "execution_count": 85,
   "id": "b9da5bab",
   "metadata": {
    "hidden": true
   },
   "outputs": [],
   "source": [
    "import pandas as pd\n",
    "import matplotlib.pyplot as plt\n",
    "import re\n",
    "from datetime import datetime\n",
    "import numpy as np"
   ]
  },
  {
   "cell_type": "code",
   "execution_count": 4,
   "id": "ad39bfc0",
   "metadata": {
    "hidden": true
   },
   "outputs": [],
   "source": [
    "from utils import colors as clrs\n",
    "from utils.colors import clr\n",
    "from utils.colors import Color\n",
    "from utils import tools as tls\n",
    "from utils.tools import N\n",
    "from utils.debug import TEST\n"
   ]
  },
  {
   "cell_type": "markdown",
   "id": "d2ccf171",
   "metadata": {
    "heading_collapsed": true
   },
   "source": [
    "# Csv handler class"
   ]
  },
  {
   "cell_type": "markdown",
   "id": "f574e4b0",
   "metadata": {
    "hidden": true
   },
   "source": [
    "allow initialisation of dataframes from files"
   ]
  },
  {
   "cell_type": "code",
   "execution_count": 7,
   "id": "bd9ae8a1",
   "metadata": {
    "hidden": true
   },
   "outputs": [],
   "source": [
    "class CsvHandler:\n",
    "    def __init__(self, path, file_names):\n",
    "        self.path = self.make_path(path)\n",
    "        self.file_names = file_names\n",
    "        self.file_paths = self.get_file_paths()\n",
    "        \n",
    "        self.dfs = {}\n",
    "\n",
    "    def make_path(self, path):\n",
    "        foward_slash = ''\n",
    "        if path[-1] != '/':\n",
    "            foward_slash = '/'\n",
    "        return path + foward_slash\n",
    "    \n",
    "    def get_file_paths(self):\n",
    "        file_paths = {}\n",
    "        for file_name in self.file_names:\n",
    "            file_paths[file_name] = self.path + file_name + '.csv'\n",
    "        return file_paths \n",
    "                   \n",
    "    def import_file(self, file_name):\n",
    "        return pd.read_csv(self.file_paths[file_name])\n",
    "    \n",
    "    def init_dfs(self):\n",
    "        for file in self.file_names:\n",
    "            self.dfs[file] = self.import_file(file)"
   ]
  },
  {
   "cell_type": "markdown",
   "id": "d4b5eef3",
   "metadata": {
    "heading_collapsed": true
   },
   "source": [
    "# CSV print class"
   ]
  },
  {
   "cell_type": "markdown",
   "id": "dd7ca899",
   "metadata": {
    "hidden": true
   },
   "source": [
    "Csvs quick visualization just to make sure we using DfHandler correctly afterward"
   ]
  },
  {
   "cell_type": "code",
   "execution_count": 10,
   "id": "779341fc",
   "metadata": {
    "hidden": true
   },
   "outputs": [],
   "source": [
    "class CsvPrint:\n",
    "    def __init__(self, csvs):\n",
    "        self.csvs = csvs\n",
    "        \n",
    "        print()\n",
    "        \n",
    "    def print_file_paths(self):\n",
    "        for value in self.csvs.file_paths.values():\n",
    "            print(value)\n",
    "        print()\n",
    "\n",
    "    def print_data(self, key):\n",
    "        print(self.csvs.dfs[key])\n",
    "        print()\n",
    "    \n",
    "    def print_all(self):\n",
    "        for df in self.csvs.dfs.values():\n",
    "            print(df)\n",
    "        print()\n"
   ]
  },
  {
   "cell_type": "markdown",
   "id": "e17fb97a",
   "metadata": {
    "heading_collapsed": true
   },
   "source": [
    "#  DF handler class"
   ]
  },
  {
   "cell_type": "markdown",
   "id": "7b832427",
   "metadata": {
    "hidden": true
   },
   "source": [
    "Print methods useless in Jupyter Notebook, but very useful in terminal\n",
    "Not complete at all, need to work on it in order to get an advantage from it... Once done, i'd be way more productive when dealing with dataframes and charts "
   ]
  },
  {
   "cell_type": "code",
   "execution_count": 22,
   "id": "2ac13e50",
   "metadata": {
    "hidden": true
   },
   "outputs": [],
   "source": [
    "class DfHandler:\n",
    "    def __init__(self, df, key=None, id=None, clr=Color.RED, length=80):\n",
    "        self.key = key\n",
    "        self.df = df\n",
    "        self.id = id\n",
    "        self.clr = clr\n",
    "        self.length = length\n",
    "        \n",
    "        self.col = self._count_col()\n",
    "        self.row = self._count_row()\n",
    "        self.df_unique = self._get_df_unique()\n",
    "        self.isunique = self._get_isunique()\n",
    "        \n",
    "        self.sep = '-'\n",
    "        self.sep_clr = Color.BRIGHT_BLACK\n",
    "    \n",
    "    def set_clr(self, clr):\n",
    "        self.clr = clr\n",
    "    \n",
    "    def set_len(self, length):\n",
    "        self.length = length\n",
    "    \n",
    "    def __new_df(self, new_df, key=None, id=None):\n",
    "        if key == None:\n",
    "            key = self.key\n",
    "        if id == None:\n",
    "            id = self.id\n",
    "        return DfHandler(new_df, key, id)\n",
    "        \n",
    "    def _count_row(self):\n",
    "        return self.df.shape[0]\n",
    "    \n",
    "    def _count_col(self):\n",
    "        return self.df.shape[1]\n",
    "    \n",
    "    # Drop duplicate values and return dataframe\n",
    "    def _get_df_unique(self):\n",
    "        if self.id == None:\n",
    "            return self.df\n",
    "        return self.df.drop_duplicates(subset=self.id)\n",
    "    \n",
    "    # True or False, if df is unique\n",
    "    def _get_isunique(self):\n",
    "        if self.df.shape == self.df_unique.shape:\n",
    "            return True\n",
    "        return False\n",
    "\n",
    "    # Print df is unique OR not unique\n",
    "    def is_unique(self, col=None):\n",
    "        if col == None:\n",
    "            col = self.id\n",
    "        neg = ''\n",
    "        if self.isunique == False:\n",
    "            neg = 'not '\n",
    "        print(self.key, 'has ' + neg + 'unique values')\n",
    "        if col != None:\n",
    "            print('column used', col)\n",
    "        print()\n",
    "    \n",
    "    # print shape of a df\n",
    "    def shape(self, end=''):\n",
    "        print(self.key, self.df.shape, end, sep='')\n",
    "            \n",
    "    def __print_header(self, header=None, length=None, sep=None):\n",
    "        header = header if header != None else self.key\n",
    "        header = header if header != None else ''\n",
    "        length = length if length != None else self.length\n",
    "        sep = sep if sep != None else self.sep\n",
    "        r = len(header) % 2\n",
    "        n = int((length - r - len(header) - 2) / 2)\n",
    "        print(clr(sep * n, self.sep_clr), clr(header, self.clr), clr(sep * (n + r), self.sep_clr))\n",
    "    \n",
    "    def print_sep(self, length=None, sep=None):\n",
    "        length = length if length != None else self.length\n",
    "        sep = sep if sep != None else self.sep\n",
    "        print(clr(sep * length, self.sep_clr), '\\n', sep='')\n",
    "    \n",
    "    def info(self):\n",
    "        self.__print_header(self.key + ' info')\n",
    "        self.df.info()\n",
    "        self.print_sep()\n",
    "        \n",
    "    # print df\n",
    "    def print(self, length=None, header=None, sep=None):\n",
    "        self.__print_header(header, length, sep)\n",
    "        print(self.df)\n",
    "        self.print_sep(length, sep)\n",
    "    \n",
    "    def head(self, n=5):\n",
    "        return DfHandler(self.df.head(n=n), self.key, self.id, self.clr, self.length)\n",
    "    \n",
    "    def tail(self, n=5):\n",
    "        return DfHandler(self.df.tail(n=n), self.key, self.id, self.clr, self.length)\n",
    "    \n",
    "    def print_cols(self):\n",
    "        for col_name in self.df.columns:\n",
    "            print(col_name)\n",
    "        print()\n",
    "    \n",
    "    def get_cols(self):\n",
    "        return self.df.columns\n",
    "    \n",
    "    def types(self):\n",
    "        print(self.df.dtypes, '\\n')\n",
    "    \n",
    "    def sort(self, col=None):\n",
    "        if col == None:\n",
    "            col = self.id\n",
    "        if col == None:\n",
    "            return None\n",
    "        df = self.df.sort_values(by=col, ascending=False)\n",
    "        return DfHandler(df, self.key, self.id)\n",
    "    \n",
    "    def not_match(self, col, pattern):\n",
    "        invalid_df = self.df[~self.df[col].str.match(pattern)]\n",
    "        return DfHandler(invalid_df, self.key, self.id)\n",
    "    \n",
    "    def match(self, col, pattern):\n",
    "        df = self.df[self.df[col].str.match(pattern)]\n",
    "        return DfHandler(df, self.key, self.id)\n",
    "        \n",
    "    def max(self, col, display=True):\n",
    "        max = self.df[col].max()\n",
    "        if display:\n",
    "            print(max)\n",
    "        return max\n",
    "    \n",
    "    def min(self, col, display=True):\n",
    "        min = self.df[col].min()\n",
    "        if display:\n",
    "            print(min)\n",
    "        return min\n",
    "    \n",
    "    def filter(self, col, fct):\n",
    "        df = self.df[self.df[col].apply(fct)]\n",
    "        return DfHandler(df, self.key, self.id)\n",
    "        \n",
    "    def filter_out(self, col, fct):\n",
    "        df = self.df[~self.df[col].apply(fct)]\n",
    "        return DfHandler(df, self.key, self.id)\n",
    "\n",
    "    def startwith(self, col, substr):\n",
    "        df = self.df[self.df[col].str.startswith(substr)]\n",
    "        return self.__new_df(df)\n",
    "    \n",
    "    def count(self, col, **kwargs):\n",
    "        count = self.df[col].value_counts()\n",
    "        if kwargs.get('put') == True:\n",
    "            print(count, '\\n', sep='')\n",
    "        return count\n",
    "\n",
    "    def to(self, col, type):\n",
    "        pass\n",
    "            \n",
    "    def is_(self, col, col_type):\n",
    "        pass\n",
    "    \n",
    "    def merge(self):\n",
    "        pass \n",
    "    \n",
    "    def _to_list(self, *cols):\n",
    "        combined_list = []\n",
    "        for col in cols:\n",
    "            if isinstance(col, list):\n",
    "                combined_list.extend(col)\n",
    "            else:\n",
    "                combined_list.append(col)\n",
    "        return combined_list\n",
    "    \n",
    "    def only(self, *cols):\n",
    "        cols = self._to_list(*cols)\n",
    "        return DfHandler(self.df[cols], self.key, self.id, self.clr, self.length)\n",
    "    \n",
    "    # use the describe method of panda, pass put=False for no printing\n",
    "    def describe(self, **args):\n",
    "        put_arg = args.pop('put', None)\n",
    "        if args == ():\n",
    "            df = self.df.describe(include='all')\n",
    "        else:\n",
    "            df = self.df.describe(**args)\n",
    "        df_handler = DfHandler(df, self.key, None, self.clr, self.length)\n",
    "        if not put_arg or (put_arg and put_arg != False):\n",
    "            df_handler.print(None, f'{df_handler.key} description')\n",
    "        return df_handler\n",
    "    "
   ]
  },
  {
   "cell_type": "markdown",
   "id": "fa7203f8",
   "metadata": {
    "heading_collapsed": true
   },
   "source": [
    "# plot and other graph lib functions"
   ]
  },
  {
   "cell_type": "markdown",
   "id": "02bf7f02",
   "metadata": {
    "hidden": true
   },
   "source": [
    "will be used next to get nice charts"
   ]
  },
  {
   "cell_type": "code",
   "execution_count": 12,
   "id": "d918e143",
   "metadata": {
    "hidden": true
   },
   "outputs": [],
   "source": [
    "\n",
    "def sex_distrib_plt(df_handler):\n",
    "    plt.style.use('seaborn-colorblind')\n",
    "\n",
    "    colors = ['skyblue', 'lightpink']\n",
    "    explode = (0.05, 0)\n",
    "\n",
    "    df_handler.count('sex').plot(kind='pie', \n",
    "                                autopct='%1.1f%%', \n",
    "                                labels=None, \n",
    "                                colors=colors,\n",
    "                                explode=explode,\n",
    "                                startangle=90)\n",
    "\n",
    "    plt.title('Sex Distribution', fontsize=16, fontweight='bold', color='Grey')\n",
    "    plt.ylabel('')\n",
    "    plt.legend(labels=['Male', 'Female'], loc='best')\n",
    "    plt.show()\n"
   ]
  },
  {
   "cell_type": "code",
   "execution_count": 116,
   "id": "fade3f7d",
   "metadata": {
    "hidden": true
   },
   "outputs": [],
   "source": [
    "\n",
    "def age_distrib_plt(df_handler, bins=None):\n",
    "    df = df_handler.df\n",
    "    \n",
    "    min_age = df['age'].min()\n",
    "    max_age = df['age'].max()\n",
    "    \n",
    "    if bins == None:\n",
    "        bins = range(min_age, max_age + 2)\n",
    "\n",
    "    plt.figure(figsize=(10, 6))\n",
    "    plt.hist(df['age'], bins=bins, color='skyblue', edgecolor='white')\n",
    "    plt.title('Distribution of Ages')\n",
    "    plt.xlabel('Age')\n",
    "    plt.ylabel('Count')\n",
    "    \n",
    "    plt.xticks(range(min_age, max_age + 1), rotation=70)\n",
    "\n",
    "    plt.show()"
   ]
  },
  {
   "cell_type": "code",
   "execution_count": 97,
   "id": "5b8db087",
   "metadata": {
    "hidden": true
   },
   "outputs": [],
   "source": [
    "def price_rep_plt(df, bin_width):\n",
    "    min_price = df['price'].min()\n",
    "    max_price = df['price'].max()\n",
    "\n",
    "   \n",
    "    bins = np.arange(min_price, max_price + bin_width, bin_width) \n",
    "\n",
    "    plt.figure(figsize=(10, 6))\n",
    "    plt.hist(df['price'], bins=bins, color='skyblue', edgecolor='white')\n",
    "    plt.title('Distribution of Prices')\n",
    "    plt.xlabel('Price')\n",
    "    plt.ylabel('Count')\n",
    "\n",
    "    plt.xticks(bins, rotation=70)\n",
    "    plt.show()"
   ]
  },
  {
   "cell_type": "markdown",
   "id": "e9eac4fb",
   "metadata": {
    "heading_collapsed": true
   },
   "source": [
    "# Init"
   ]
  },
  {
   "cell_type": "code",
   "execution_count": 14,
   "id": "fad88f67",
   "metadata": {
    "hidden": true
   },
   "outputs": [],
   "source": [
    "\n",
    "def get_df_handler(csvs, key, *args):\n",
    "    return DfHandler(csvs.dfs[key], key, *args)"
   ]
  },
  {
   "cell_type": "markdown",
   "id": "3b6b3c87",
   "metadata": {
    "hidden": true
   },
   "source": [
    "Import using CsvHandler.\n"
   ]
  },
  {
   "cell_type": "markdown",
   "id": "184dc9c8",
   "metadata": {
    "hidden": true
   },
   "source": [
    "Initialisation of the dataframes."
   ]
  },
  {
   "cell_type": "code",
   "execution_count": 20,
   "id": "aeba144f",
   "metadata": {
    "hidden": true
   },
   "outputs": [],
   "source": [
    "def init():\n",
    "    path_data = \"../data/csv/\"\n",
    "    file_names = ('customers' , 'products' , 'transactions')\n",
    "    csvs = CsvHandler(path_data, file_names)\n",
    "    csvs.init_dfs()\n",
    "    \n",
    "    return csvs\n",
    "\n",
    "csvs = init()\n"
   ]
  },
  {
   "cell_type": "markdown",
   "id": "bf421dbb",
   "metadata": {
    "hidden": true
   },
   "source": [
    "Csvs quick visualization just to make sure we using get_df_handler correctly afterward"
   ]
  },
  {
   "cell_type": "markdown",
   "id": "a7f54dce",
   "metadata": {
    "hidden": true
   },
   "source": [
    "(More useful when working with vsc and a terminal)"
   ]
  },
  {
   "cell_type": "code",
   "execution_count": 30,
   "id": "c058edb5",
   "metadata": {
    "hidden": true
   },
   "outputs": [
    {
     "name": "stdout",
     "output_type": "stream",
     "text": [
      "\n",
      "../data/csv/customers.csv\n",
      "../data/csv/products.csv\n",
      "../data/csv/transactions.csv\n",
      "\n",
      "     client_id sex  birth\n",
      "0       c_4410   f   1967\n",
      "1       c_7839   f   1975\n",
      "2       c_1699   f   1984\n",
      "3       c_5961   f   1962\n",
      "4       c_5320   m   1943\n",
      "...        ...  ..    ...\n",
      "8618    c_7920   m   1956\n",
      "8619    c_7403   f   1970\n",
      "8620    c_5119   m   1974\n",
      "8621    c_5643   f   1968\n",
      "8622      c_84   f   1982\n",
      "\n",
      "[8623 rows x 3 columns]\n",
      "     id_prod   price  categ\n",
      "0     0_1421   19.99      0\n",
      "1     0_1368    5.13      0\n",
      "2      0_731   17.99      0\n",
      "3      1_587    4.99      1\n",
      "4     0_1507    3.99      0\n",
      "...      ...     ...    ...\n",
      "3282    2_23  115.99      2\n",
      "3283   0_146   17.14      0\n",
      "3284   0_802   11.22      0\n",
      "3285   1_140   38.56      1\n",
      "3286  0_1920   25.16      0\n",
      "\n",
      "[3287 rows x 3 columns]\n",
      "       id_prod                        date session_id client_id\n",
      "0       0_1483  2021-04-10 18:37:28.723910    s_18746    c_4450\n",
      "1        2_226  2022-02-03 01:55:53.276402   s_159142     c_277\n",
      "2        1_374  2021-09-23 15:13:46.938559    s_94290    c_4270\n",
      "3       0_2186  2021-10-17 03:27:18.783634   s_105936    c_4597\n",
      "4       0_1351  2021-07-17 20:34:25.800563    s_63642    c_1242\n",
      "...        ...                         ...        ...       ...\n",
      "337011   1_671  2021-05-28 12:35:46.214839    s_40720    c_3454\n",
      "337012   0_759  2021-06-19 00:19:23.917703    s_50568    c_6268\n",
      "337013  0_1256  2021-03-16 17:31:59.442007     s_7219    c_4137\n",
      "337014   2_227  2021-10-30 16:50:15.997750   s_112349       c_5\n",
      "337015  0_1417  2021-06-26 14:38:19.732946    s_54117    c_6714\n",
      "\n",
      "[337016 rows x 4 columns]\n",
      "\n",
      "     client_id sex  birth\n",
      "0       c_4410   f   1967\n",
      "1       c_7839   f   1975\n",
      "2       c_1699   f   1984\n",
      "3       c_5961   f   1962\n",
      "4       c_5320   m   1943\n",
      "...        ...  ..    ...\n",
      "8618    c_7920   m   1956\n",
      "8619    c_7403   f   1970\n",
      "8620    c_5119   m   1974\n",
      "8621    c_5643   f   1968\n",
      "8622      c_84   f   1982\n",
      "\n",
      "[8623 rows x 3 columns]\n",
      "\n"
     ]
    }
   ],
   "source": [
    "\n",
    "csvs_visu = CsvPrint(csvs)\n",
    "csvs_visu.print_file_paths()\n",
    "csvs_visu.print_all()\n",
    "csvs_visu.print_data('customers')\n"
   ]
  },
  {
   "cell_type": "code",
   "execution_count": 31,
   "id": "93f61422",
   "metadata": {
    "hidden": true
   },
   "outputs": [],
   "source": [
    "customers = get_df_handler(csvs, 'customers', 'client_id', Color.BLUE)\n",
    "products = get_df_handler(csvs, 'products', 'id_prod', Color.RED)\n",
    "transactions = get_df_handler(csvs, 'transactions', None, Color.BRIGHT_GREEN)\n"
   ]
  },
  {
   "cell_type": "markdown",
   "id": "6f04b3bd",
   "metadata": {
    "heading_collapsed": true
   },
   "source": [
    "# visualisation"
   ]
  },
  {
   "cell_type": "markdown",
   "id": "a4e96549",
   "metadata": {
    "hidden": true
   },
   "source": [
    "(If i were not working on a terminal!)"
   ]
  },
  {
   "cell_type": "code",
   "execution_count": 25,
   "id": "e4ebab9c",
   "metadata": {
    "hidden": true,
    "scrolled": false
   },
   "outputs": [
    {
     "name": "stdout",
     "output_type": "stream",
     "text": [
      "\u001b[90m----------------------------------\u001b[0m \u001b[34mcustomers\u001b[0m \u001b[90m-----------------------------------\u001b[0m\n",
      "     client_id sex  birth\n",
      "0       c_4410   f   1967\n",
      "1       c_7839   f   1975\n",
      "2       c_1699   f   1984\n",
      "3       c_5961   f   1962\n",
      "4       c_5320   m   1943\n",
      "...        ...  ..    ...\n",
      "8618    c_7920   m   1956\n",
      "8619    c_7403   f   1970\n",
      "8620    c_5119   m   1974\n",
      "8621    c_5643   f   1968\n",
      "8622      c_84   f   1982\n",
      "\n",
      "[8623 rows x 3 columns]\n",
      "\u001b[90m--------------------------------------------------------------------------------\u001b[0m\n",
      "\n",
      "\u001b[90m-----------------------------------\u001b[0m \u001b[31mproducts\u001b[0m \u001b[90m-----------------------------------\u001b[0m\n",
      "     id_prod   price  categ\n",
      "0     0_1421   19.99      0\n",
      "1     0_1368    5.13      0\n",
      "2      0_731   17.99      0\n",
      "3      1_587    4.99      1\n",
      "4     0_1507    3.99      0\n",
      "...      ...     ...    ...\n",
      "3282    2_23  115.99      2\n",
      "3283   0_146   17.14      0\n",
      "3284   0_802   11.22      0\n",
      "3285   1_140   38.56      1\n",
      "3286  0_1920   25.16      0\n",
      "\n",
      "[3287 rows x 3 columns]\n",
      "\u001b[90m--------------------------------------------------------------------------------\u001b[0m\n",
      "\n",
      "\u001b[90m---------------------------------\u001b[0m \u001b[92mtransactions\u001b[0m \u001b[90m---------------------------------\u001b[0m\n",
      "       id_prod                        date session_id client_id\n",
      "0       0_1483  2021-04-10 18:37:28.723910    s_18746    c_4450\n",
      "1        2_226  2022-02-03 01:55:53.276402   s_159142     c_277\n",
      "2        1_374  2021-09-23 15:13:46.938559    s_94290    c_4270\n",
      "3       0_2186  2021-10-17 03:27:18.783634   s_105936    c_4597\n",
      "4       0_1351  2021-07-17 20:34:25.800563    s_63642    c_1242\n",
      "...        ...                         ...        ...       ...\n",
      "337011   1_671  2021-05-28 12:35:46.214839    s_40720    c_3454\n",
      "337012   0_759  2021-06-19 00:19:23.917703    s_50568    c_6268\n",
      "337013  0_1256  2021-03-16 17:31:59.442007     s_7219    c_4137\n",
      "337014   2_227  2021-10-30 16:50:15.997750   s_112349       c_5\n",
      "337015  0_1417  2021-06-26 14:38:19.732946    s_54117    c_6714\n",
      "\n",
      "[337016 rows x 4 columns]\n",
      "\u001b[90m--------------------------------------------------------------------------------\u001b[0m\n",
      "\n"
     ]
    }
   ],
   "source": [
    "customers.print()\n",
    "products.print()\n",
    "transactions.print()"
   ]
  },
  {
   "cell_type": "markdown",
   "id": "6a59d396",
   "metadata": {
    "hidden": true
   },
   "source": [
    "and now we can get to the heart of the matter"
   ]
  },
  {
   "cell_type": "code",
   "execution_count": null,
   "id": "c5473eb0",
   "metadata": {
    "hidden": true
   },
   "outputs": [],
   "source": []
  },
  {
   "cell_type": "code",
   "execution_count": 42,
   "id": "ce5dff3f",
   "metadata": {
    "hidden": true,
    "scrolled": false
   },
   "outputs": [
    {
     "name": "stdout",
     "output_type": "stream",
     "text": [
      "\u001b[90m--------------------------------\u001b[0m \u001b[34mcustomers info\u001b[0m \u001b[90m--------------------------------\u001b[0m\n",
      "<class 'pandas.core.frame.DataFrame'>\n",
      "RangeIndex: 8623 entries, 0 to 8622\n",
      "Data columns (total 3 columns):\n",
      " #   Column     Non-Null Count  Dtype \n",
      "---  ------     --------------  ----- \n",
      " 0   client_id  8623 non-null   object\n",
      " 1   sex        8623 non-null   object\n",
      " 2   birth      8623 non-null   int64 \n",
      "dtypes: int64(1), object(2)\n",
      "memory usage: 202.2+ KB\n",
      "\u001b[90m--------------------------------------------------------------------------------\u001b[0m\n",
      "\n",
      "\u001b[90m--------------------------------\u001b[0m \u001b[31mproducts info\u001b[0m \u001b[90m---------------------------------\u001b[0m\n",
      "<class 'pandas.core.frame.DataFrame'>\n",
      "RangeIndex: 3287 entries, 0 to 3286\n",
      "Data columns (total 3 columns):\n",
      " #   Column   Non-Null Count  Dtype  \n",
      "---  ------   --------------  -----  \n",
      " 0   id_prod  3287 non-null   object \n",
      " 1   price    3287 non-null   float64\n",
      " 2   categ    3287 non-null   int64  \n",
      "dtypes: float64(1), int64(1), object(1)\n",
      "memory usage: 77.2+ KB\n",
      "\u001b[90m--------------------------------------------------------------------------------\u001b[0m\n",
      "\n",
      "\u001b[90m------------------------------\u001b[0m \u001b[92mtransactions info\u001b[0m \u001b[90m-------------------------------\u001b[0m\n",
      "<class 'pandas.core.frame.DataFrame'>\n",
      "RangeIndex: 337016 entries, 0 to 337015\n",
      "Data columns (total 4 columns):\n",
      " #   Column      Non-Null Count   Dtype \n",
      "---  ------      --------------   ----- \n",
      " 0   id_prod     337016 non-null  object\n",
      " 1   date        337016 non-null  object\n",
      " 2   session_id  337016 non-null  object\n",
      " 3   client_id   337016 non-null  object\n",
      "dtypes: object(4)\n",
      "memory usage: 10.3+ MB\n",
      "\u001b[90m--------------------------------------------------------------------------------\u001b[0m\n",
      "\n",
      "\u001b[90m----------------------------------\u001b[0m \u001b[34mcustomers\u001b[0m \u001b[90m-----------------------------------\u001b[0m\n",
      "  client_id sex  birth\n",
      "0    c_4410   f   1967\n",
      "1    c_7839   f   1975\n",
      "2    c_1699   f   1984\n",
      "3    c_5961   f   1962\n",
      "4    c_5320   m   1943\n",
      "5     c_415   m   1993\n",
      "6     c_285   f   1967\n",
      "7     c_160   f   1978\n",
      "8    c_6446   m   1971\n",
      "9    c_6866   m   1993\n",
      "\u001b[90m--------------------------------------------------------------------------------\u001b[0m\n",
      "\n",
      "\u001b[90m----------------------------------\u001b[0m \u001b[34mcustomers\u001b[0m \u001b[90m-----------------------------------\u001b[0m\n",
      "     client_id sex  birth\n",
      "8613    c_4477   f   1999\n",
      "8614    c_4421   m   1960\n",
      "8615    c_2791   m   2004\n",
      "8616    c_8291   m   2003\n",
      "8617    c_5755   m   1990\n",
      "8618    c_7920   m   1956\n",
      "8619    c_7403   f   1970\n",
      "8620    c_5119   m   1974\n",
      "8621    c_5643   f   1968\n",
      "8622      c_84   f   1982\n",
      "\u001b[90m--------------------------------------------------------------------------------\u001b[0m\n",
      "\n",
      "\u001b[90m-----------------------------------\u001b[0m \u001b[31mproducts\u001b[0m \u001b[90m-----------------------------------\u001b[0m\n",
      "  id_prod  price  categ\n",
      "0  0_1421  19.99      0\n",
      "1  0_1368   5.13      0\n",
      "2   0_731  17.99      0\n",
      "3   1_587   4.99      1\n",
      "4  0_1507   3.99      0\n",
      "5  0_1163   9.99      0\n",
      "6   1_463  36.99      1\n",
      "7  0_2157  34.99      0\n",
      "8  0_1915  16.99      0\n",
      "9   0_389  18.99      0\n",
      "\u001b[90m--------------------------------------------------------------------------------\u001b[0m\n",
      "\n",
      "\u001b[90m-----------------------------------\u001b[0m \u001b[31mproducts\u001b[0m \u001b[90m-----------------------------------\u001b[0m\n",
      "     id_prod   price  categ\n",
      "3277  0_2001    7.99      0\n",
      "3278   1_387    9.99      1\n",
      "3279   1_331   55.99      1\n",
      "3280  0_1314   20.63      0\n",
      "3281   0_607   14.99      0\n",
      "3282    2_23  115.99      2\n",
      "3283   0_146   17.14      0\n",
      "3284   0_802   11.22      0\n",
      "3285   1_140   38.56      1\n",
      "3286  0_1920   25.16      0\n",
      "\u001b[90m--------------------------------------------------------------------------------\u001b[0m\n",
      "\n",
      "\u001b[90m---------------------------------\u001b[0m \u001b[92mtransactions\u001b[0m \u001b[90m---------------------------------\u001b[0m\n",
      "  id_prod                        date session_id client_id\n",
      "0  0_1483  2021-04-10 18:37:28.723910    s_18746    c_4450\n",
      "1   2_226  2022-02-03 01:55:53.276402   s_159142     c_277\n",
      "2   1_374  2021-09-23 15:13:46.938559    s_94290    c_4270\n",
      "3  0_2186  2021-10-17 03:27:18.783634   s_105936    c_4597\n",
      "4  0_1351  2021-07-17 20:34:25.800563    s_63642    c_1242\n",
      "5  0_1085  2021-09-15 05:47:48.215162    s_90139    c_2526\n",
      "6  0_1508  2021-08-29 05:39:01.055455    s_82100    c_5799\n",
      "7  0_1627  2021-09-19 14:54:52.410362    s_92294    c_1422\n",
      "8  0_1469  2022-02-03 07:13:22.559995   s_159252    c_2207\n",
      "9  0_1453  2022-02-26 09:03:10.571665   s_171098    c_5433\n",
      "\u001b[90m--------------------------------------------------------------------------------\u001b[0m\n",
      "\n",
      "\u001b[90m---------------------------------\u001b[0m \u001b[92mtransactions\u001b[0m \u001b[90m---------------------------------\u001b[0m\n",
      "       id_prod                        date session_id client_id\n",
      "337006   0_153  2021-10-17 12:47:22.803642   s_106129     c_682\n",
      "337007   1_282  2021-06-01 12:14:28.924898    s_42561    c_2945\n",
      "337008   1_413  2022-01-10 13:47:23.973957   s_147795    c_3706\n",
      "337009  0_1475  2021-07-22 13:47:39.400914    s_65686    c_5607\n",
      "337010   1_498  2022-02-03 01:39:15.793010   s_159138    c_1857\n",
      "337011   1_671  2021-05-28 12:35:46.214839    s_40720    c_3454\n",
      "337012   0_759  2021-06-19 00:19:23.917703    s_50568    c_6268\n",
      "337013  0_1256  2021-03-16 17:31:59.442007     s_7219    c_4137\n",
      "337014   2_227  2021-10-30 16:50:15.997750   s_112349       c_5\n",
      "337015  0_1417  2021-06-26 14:38:19.732946    s_54117    c_6714\n",
      "\u001b[90m--------------------------------------------------------------------------------\u001b[0m\n",
      "\n",
      "\u001b[90m-----------------------------\u001b[0m \u001b[31mproducts description\u001b[0m \u001b[90m-----------------------------\u001b[0m\n",
      "             price        categ\n",
      "count  3287.000000  3287.000000\n",
      "mean     21.856641     0.370246\n",
      "std      29.847908     0.615387\n",
      "min      -1.000000     0.000000\n",
      "25%       6.990000     0.000000\n",
      "50%      13.060000     0.000000\n",
      "75%      22.990000     1.000000\n",
      "max     300.000000     2.000000\n",
      "\u001b[90m--------------------------------------------------------------------------------\u001b[0m\n",
      "\n",
      "\u001b[90m----------------------------\u001b[0m \u001b[34mcustomers description\u001b[0m \u001b[90m-----------------------------\u001b[0m\n",
      "             birth\n",
      "count  8623.000000\n",
      "mean   1978.280877\n",
      "std      16.919535\n",
      "min    1929.000000\n",
      "25%    1966.000000\n",
      "50%    1979.000000\n",
      "75%    1992.000000\n",
      "max    2004.000000\n",
      "\u001b[90m--------------------------------------------------------------------------------\u001b[0m\n",
      "\n",
      "\u001b[90m---------------------------\u001b[0m \u001b[92mtransactions description\u001b[0m \u001b[90m---------------------------\u001b[0m\n",
      "       id_prod                             date session_id client_id\n",
      "count   337016                           337016     337016    337016\n",
      "unique    3266                           336855     169195      8602\n",
      "top      1_369  test_2021-03-01 02:30:02.237413        s_0    c_1609\n",
      "freq      1081                               13        200     12855\n",
      "\u001b[90m--------------------------------------------------------------------------------\u001b[0m\n",
      "\n"
     ]
    },
    {
     "data": {
      "text/plain": [
       "<__main__.DfHandler at 0x168df7a60>"
      ]
     },
     "execution_count": 42,
     "metadata": {},
     "output_type": "execute_result"
    }
   ],
   "source": [
    "customers.info()\n",
    "products.info()\n",
    "transactions.info()\n",
    "\n",
    "customers.head(10).print()\n",
    "customers.tail(10).print()\n",
    "products.head(10).print()\n",
    "products.tail(10).print()\n",
    "transactions.head(10).print()\n",
    "transactions.tail(10).print()\n",
    "\n",
    "products.describe()\n",
    "customers.describe()\n",
    "transactions.describe()"
   ]
  },
  {
   "cell_type": "markdown",
   "id": "e268d304",
   "metadata": {
    "heading_collapsed": true
   },
   "source": [
    "# Exploring invalid data in customers"
   ]
  },
  {
   "cell_type": "code",
   "execution_count": null,
   "id": "959279d1",
   "metadata": {
    "hidden": true
   },
   "outputs": [],
   "source": []
  },
  {
   "cell_type": "code",
   "execution_count": 44,
   "id": "66b10126",
   "metadata": {
    "hidden": true
   },
   "outputs": [
    {
     "name": "stdout",
     "output_type": "stream",
     "text": [
      "customers has unique values\n",
      "column used client_id\n",
      "\n",
      "2004\n",
      "1929\n",
      "\n",
      "\u001b[90m--------------------------------\u001b[0m \u001b[34mcustomers info\u001b[0m \u001b[90m--------------------------------\u001b[0m\n",
      "<class 'pandas.core.frame.DataFrame'>\n",
      "RangeIndex: 8623 entries, 0 to 8622\n",
      "Data columns (total 4 columns):\n",
      " #   Column     Non-Null Count  Dtype \n",
      "---  ------     --------------  ----- \n",
      " 0   client_id  8623 non-null   object\n",
      " 1   sex        8623 non-null   object\n",
      " 2   birth      8623 non-null   int64 \n",
      " 3   age        8623 non-null   int64 \n",
      "dtypes: int64(2), object(2)\n",
      "memory usage: 269.6+ KB\n",
      "\u001b[90m--------------------------------------------------------------------------------\u001b[0m\n",
      "\n",
      "\u001b[90m----------------------------\u001b[0m \u001b[34mcustomers description\u001b[0m \u001b[90m-----------------------------\u001b[0m\n",
      "             birth          age\n",
      "count  8623.000000  8623.000000\n",
      "mean   1978.280877    45.719123\n",
      "std      16.919535    16.919535\n",
      "min    1929.000000    20.000000\n",
      "25%    1966.000000    32.000000\n",
      "50%    1979.000000    45.000000\n",
      "75%    1992.000000    58.000000\n",
      "max    2004.000000    95.000000\n",
      "\u001b[90m--------------------------------------------------------------------------------\u001b[0m\n",
      "\n",
      "\u001b[90m----------------------------------\u001b[0m \u001b[34mcustomers\u001b[0m \u001b[90m-----------------------------------\u001b[0m\n",
      "     client_id sex  birth  age\n",
      "0       c_4410   f   1967   57\n",
      "1       c_7839   f   1975   49\n",
      "2       c_1699   f   1984   40\n",
      "3       c_5961   f   1962   62\n",
      "4       c_5320   m   1943   81\n",
      "...        ...  ..    ...  ...\n",
      "8618    c_7920   m   1956   68\n",
      "8619    c_7403   f   1970   54\n",
      "8620    c_5119   m   1974   50\n",
      "8621    c_5643   f   1968   56\n",
      "8622      c_84   f   1982   42\n",
      "\n",
      "[8623 rows x 4 columns]\n",
      "\u001b[90m--------------------------------------------------------------------------------\u001b[0m\n",
      "\n"
     ]
    }
   ],
   "source": [
    "customers.is_unique()\n",
    "customers.max('birth')\n",
    "customers.min('birth')\n",
    "N()\n",
    "\n",
    "customers.df['age'] = datetime.now().year - customers.df['birth']\n",
    "customers.info()\n",
    "customers.describe()\n",
    "customers.print()"
   ]
  },
  {
   "cell_type": "code",
   "execution_count": 52,
   "id": "dbf71082",
   "metadata": {
    "hidden": true
   },
   "outputs": [
    {
     "name": "stdout",
     "output_type": "stream",
     "text": [
      "\u001b[90m----------------------------------\u001b[0m \u001b[34mcustomers\u001b[0m \u001b[90m-----------------------------------\u001b[0m\n",
      "     client_id sex  birth  age  client_id_int\n",
      "0       c_4410   f   1967   57           4410\n",
      "1       c_7839   f   1975   49           7839\n",
      "2       c_1699   f   1984   40           1699\n",
      "3       c_5961   f   1962   62           5961\n",
      "4       c_5320   m   1943   81           5320\n",
      "...        ...  ..    ...  ...            ...\n",
      "8618    c_7920   m   1956   68           7920\n",
      "8619    c_7403   f   1970   54           7403\n",
      "8620    c_5119   m   1974   50           5119\n",
      "8621    c_5643   f   1968   56           5643\n",
      "8622      c_84   f   1982   42             84\n",
      "\n",
      "[8623 rows x 5 columns]\n",
      "\u001b[90m--------------------------------------------------------------------------------\u001b[0m\n",
      "\n"
     ]
    }
   ],
   "source": [
    "customers.df['client_id_int'] = customers.df['client_id'].str.extract('(\\d+)').astype(int)\n",
    "customers.print()"
   ]
  },
  {
   "cell_type": "markdown",
   "id": "87910ee6",
   "metadata": {
    "hidden": true
   },
   "source": [
    "Conclusion for the customers:\n",
    "No null values\n",
    "unique id\n",
    "Client_id seems valid consecutive unique id, which can give informations on the order customers have registered\n",
    "to the service\n",
    "Mean age: 45\n",
    "Median: 45\n",
    "Standard deviation: 17\n",
    "Min age: 20 (2004)\n",
    "Max age: 95 (1929)"
   ]
  },
  {
   "cell_type": "markdown",
   "id": "a9d01211",
   "metadata": {
    "hidden": true
   },
   "source": [
    "now checking the age frequency"
   ]
  },
  {
   "cell_type": "code",
   "execution_count": 49,
   "id": "abf690b1",
   "metadata": {
    "hidden": true
   },
   "outputs": [
    {
     "name": "stdout",
     "output_type": "stream",
     "text": [
      "    age  frequency\n",
      "0    20        440\n",
      "1    21        146\n",
      "2    22        146\n",
      "3    23        129\n",
      "4    24        136\n",
      "..  ...        ...\n",
      "71   91          8\n",
      "72   92          6\n",
      "73   93          4\n",
      "74   94          4\n",
      "75   95          3\n",
      "\n",
      "[76 rows x 2 columns]\n",
      "             age   frequency\n",
      "count  76.000000   76.000000\n",
      "mean   57.500000  113.460526\n",
      "std    22.083176   73.984943\n",
      "min    20.000000    3.000000\n",
      "25%    38.750000   39.750000\n",
      "50%    57.500000  136.000000\n",
      "75%    76.250000  160.000000\n",
      "max    95.000000  440.000000\n"
     ]
    }
   ],
   "source": [
    "\n",
    "age_distribution = customers.df['age'].value_counts().reset_index()\n",
    "age_distribution.columns = ['age', 'frequency']\n",
    "age_distribution = age_distribution.sort_values(by='age').reset_index(drop=True)\n",
    "print(age_distribution)\n",
    "print(age_distribution.describe())\n"
   ]
  },
  {
   "cell_type": "markdown",
   "id": "2730d351",
   "metadata": {
    "hidden": true
   },
   "source": [
    "Seems to be an overrepresentation of age 20.\n",
    "If it needed to be modifiyed ever, we could use the values directly above\n",
    "(age=21,22,23,24): 146, 146, 129, 136"
   ]
  },
  {
   "cell_type": "code",
   "execution_count": 54,
   "id": "0b997a03",
   "metadata": {
    "hidden": true
   },
   "outputs": [
    {
     "name": "stdout",
     "output_type": "stream",
     "text": [
      "\u001b[90m----------------------------------\u001b[0m \u001b[31mcustomers\u001b[0m \u001b[90m-----------------------------------\u001b[0m\n",
      "     client_id sex  birth  age  client_id_int\n",
      "43      c_1046   m   2004   20           1046\n",
      "71      c_3081   m   2004   20           3081\n",
      "95      c_1418   f   2004   20           1418\n",
      "101     c_3338   m   2004   20           3338\n",
      "106     c_1774   f   2004   20           1774\n",
      "...        ...  ..    ...  ...            ...\n",
      "8584     c_461   f   2004   20            461\n",
      "8594     c_294   m   2004   20            294\n",
      "8598    c_5339   f   2004   20           5339\n",
      "8606    c_4077   m   2004   20           4077\n",
      "8615    c_2791   m   2004   20           2791\n",
      "\n",
      "[440 rows x 5 columns]\n",
      "\u001b[90m--------------------------------------------------------------------------------\u001b[0m\n",
      "\n"
     ]
    }
   ],
   "source": [
    "only_20 = customers.filter('age', lambda x: x == 20)\n",
    "only_20.print()"
   ]
  },
  {
   "cell_type": "markdown",
   "id": "0d404a4d",
   "metadata": {
    "hidden": true
   },
   "source": [
    "\n",
    "Apparently no problem with client_id or sex, so only age must be readjust:"
   ]
  },
  {
   "cell_type": "markdown",
   "id": "efeadf5b",
   "metadata": {
    "hidden": true
   },
   "source": [
    "Then, age 20 frequence should be 146 chosen randomely among the 440 current clients with age 20, and then the rest (440 - 134) should be proportionally distributed, which means randomely chosen, each age having a probability weight"
   ]
  },
  {
   "cell_type": "code",
   "execution_count": 110,
   "id": "81b22ed1",
   "metadata": {
    "hidden": true,
    "scrolled": false
   },
   "outputs": [
    {
     "data": {
      "image/png": "[encoded data removed]",
      "text/plain": [
       "<Figure size 1000x600 with 1 Axes>"
      ]
     },
     "metadata": {},
     "output_type": "display_data"
    }
   ],
   "source": [
    "age_distrib_plt(customers)"
   ]
  },
  {
   "cell_type": "code",
   "execution_count": 119,
   "id": "48282d1a",
   "metadata": {
    "hidden": true
   },
   "outputs": [
    {
     "data": {
      "image/png": "[encoded data removed]",
      "text/plain": [
       "<Figure size 1000x600 with 1 Axes>"
      ]
     },
     "metadata": {},
     "output_type": "display_data"
    }
   ],
   "source": [
    "age_distrib_plt(customers, 28)"
   ]
  },
  {
   "cell_type": "markdown",
   "id": "d03358b0",
   "metadata": {
    "hidden": true
   },
   "source": [
    "Explainatino: might be the majority default value when registering\n"
   ]
  },
  {
   "cell_type": "markdown",
   "id": "c0155fd8",
   "metadata": {
    "hidden": true
   },
   "source": [
    "sex distibution"
   ]
  },
  {
   "cell_type": "code",
   "execution_count": 56,
   "id": "2b211755",
   "metadata": {
    "hidden": true
   },
   "outputs": [
    {
     "name": "stdout",
     "output_type": "stream",
     "text": [
      "\u001b[90m----------------------------------\u001b[0m \u001b[31mcustomers\u001b[0m \u001b[90m-----------------------------------\u001b[0m\n",
      "Empty DataFrame\n",
      "Columns: [client_id, sex, birth, age, client_id_int]\n",
      "Index: []\n",
      "\u001b[90m--------------------------------------------------------------------------------\u001b[0m\n",
      "\n",
      "\u001b[90m----------------------------------\u001b[0m \u001b[31mcustomers\u001b[0m \u001b[90m-----------------------------------\u001b[0m\n",
      "     client_id sex  birth  age  client_id_int\n",
      "2735      ct_0   f   2001   23              0\n",
      "8494      ct_1   m   2001   23              1\n",
      "\u001b[90m--------------------------------------------------------------------------------\u001b[0m\n",
      "\n"
     ]
    }
   ],
   "source": [
    "    # Check if sex is f or m only, OK\n",
    "    customers.not_match('sex', r'^[fm]$').print()\n",
    "    # check if client_id is c_NUMBER\n",
    "    # Noticing 2 problematic values ct_0 and ct_1 \n",
    "    customers.not_match('client_id', r'^c_\\d+$').print()\n",
    "\n",
    "\n"
   ]
  },
  {
   "cell_type": "markdown",
   "id": "efe57045",
   "metadata": {
    "hidden": true
   },
   "source": [
    "Noticing two problematic client_id, sex OK"
   ]
  },
  {
   "cell_type": "code",
   "execution_count": 65,
   "id": "87a9a0a5",
   "metadata": {
    "hidden": true
   },
   "outputs": [
    {
     "name": "stdout",
     "output_type": "stream",
     "text": [
      "Duplicate values in 'client_id_int':\n",
      "     client_id sex  birth  age  client_id_int\n",
      "4299       c_1   m   1955   69              1\n",
      "8494      ct_1   m   2001   23              1\n"
     ]
    }
   ],
   "source": [
    "duplicates = customers.df[customers.df.duplicated('client_id_int', keep=False)]\n",
    "print(\"Duplicate values in 'client_id_int':\")\n",
    "print(duplicates)   "
   ]
  },
  {
   "cell_type": "code",
   "execution_count": 60,
   "id": "3ff214ff",
   "metadata": {
    "hidden": true
   },
   "outputs": [
    {
     "data": {
      "image/png": "[encoded data removed]",
      "text/plain": [
       "<Figure size 640x480 with 1 Axes>"
      ]
     },
     "metadata": {},
     "output_type": "display_data"
    }
   ],
   "source": [
    "sex_distrib_plt(customers)\n"
   ]
  },
  {
   "cell_type": "markdown",
   "id": "22c66481",
   "metadata": {
    "heading_collapsed": true
   },
   "source": [
    "# Exploring invalid data in products"
   ]
  },
  {
   "cell_type": "code",
   "execution_count": 77,
   "id": "13d80017",
   "metadata": {
    "hidden": true
   },
   "outputs": [
    {
     "name": "stdout",
     "output_type": "stream",
     "text": [
      "\u001b[90m-----------------------------\u001b[0m \u001b[31mproducts description\u001b[0m \u001b[90m-----------------------------\u001b[0m\n",
      "             price        categ\n",
      "count  3287.000000  3287.000000\n",
      "mean     21.856641     0.370246\n",
      "std      29.847908     0.615387\n",
      "min      -1.000000     0.000000\n",
      "25%       6.990000     0.000000\n",
      "50%      13.060000     0.000000\n",
      "75%      22.990000     1.000000\n",
      "max     300.000000     2.000000\n",
      "\u001b[90m--------------------------------------------------------------------------------\u001b[0m\n",
      "\n",
      "\u001b[90m-----------------------------------\u001b[0m \u001b[31mproducts\u001b[0m \u001b[90m-----------------------------------\u001b[0m\n",
      "     id_prod   price  categ     Price Group\n",
      "0     0_1421   19.99      0  (-1.301, 29.1]\n",
      "1     0_1368    5.13      0  (-1.301, 29.1]\n",
      "2      0_731   17.99      0  (-1.301, 29.1]\n",
      "3      1_587    4.99      1  (-1.301, 29.1]\n",
      "4     0_1507    3.99      0  (-1.301, 29.1]\n",
      "...      ...     ...    ...             ...\n",
      "3282    2_23  115.99      2   (89.3, 119.4]\n",
      "3283   0_146   17.14      0  (-1.301, 29.1]\n",
      "3284   0_802   11.22      0  (-1.301, 29.1]\n",
      "3285   1_140   38.56      1    (29.1, 59.2]\n",
      "3286  0_1920   25.16      0  (-1.301, 29.1]\n",
      "\n",
      "[3287 rows x 4 columns]\n",
      "\u001b[90m--------------------------------------------------------------------------------\u001b[0m\n",
      "\n",
      "products has unique values\n",
      "column used id_prod\n",
      "\n",
      "id_prod          object\n",
      "price           float64\n",
      "categ             int64\n",
      "Price Group    category\n",
      "dtype: object \n",
      "\n",
      "300.0\n",
      "-1.0\n",
      "\u001b[90m-----------------------------------\u001b[0m \u001b[31mproducts\u001b[0m \u001b[90m-----------------------------------\u001b[0m\n",
      "    id_prod  price  categ     Price Group\n",
      "731     T_0   -1.0      0  (-1.301, 29.1]\n",
      "\u001b[90m--------------------------------------------------------------------------------\u001b[0m\n",
      "\n"
     ]
    }
   ],
   "source": [
    "# Exploring invalid data in products\n",
    "products.describe()\n",
    "products.print()\n",
    "products.is_unique()\n",
    "products.types()\n",
    "products.max('price')\n",
    "# observing negative value\n",
    "products.min('price')\n",
    "products.filter('price', lambda x: x <= 0).print()\n"
   ]
  },
  {
   "cell_type": "markdown",
   "id": "f56176b7",
   "metadata": {
    "hidden": true
   },
   "source": [
    "noticing one id_prod T_0 with negative price"
   ]
  },
  {
   "cell_type": "code",
   "execution_count": 86,
   "id": "f68539a5",
   "metadata": {
    "hidden": true,
    "scrolled": true
   },
   "outputs": [
    {
     "name": "stdout",
     "output_type": "stream",
     "text": [
      "          Price Group  Count\n",
      "0     (0.321, 30.558]   2747\n",
      "1    (30.558, 60.496]    315\n",
      "2    (60.496, 90.434]     88\n",
      "3   (90.434, 120.372]     56\n",
      "4   (120.372, 150.31]     36\n",
      "5   (150.31, 180.248]     22\n",
      "6  (180.248, 210.186]     11\n",
      "7  (210.186, 240.124]      8\n",
      "8  (240.124, 270.062]      2\n",
      "9    (270.062, 300.0]      1\n"
     ]
    }
   ],
   "source": [
    "df = products.filter_out('price', lambda x: x <= 0).df.copy()\n",
    "df['Price Group'] = pd.cut(df['price'], bins=10)\n",
    "price_group_distribution = df['Price Group'].value_counts().reset_index().rename(columns={'index': 'Price Group', 'Price Group': 'Count'}).sort_values(by='Price Group').reset_index(drop=True)\n",
    "print(price_group_distribution)"
   ]
  },
  {
   "cell_type": "markdown",
   "id": "1946e8b7",
   "metadata": {
    "hidden": true
   },
   "source": [
    "Most book are under 30$"
   ]
  },
  {
   "cell_type": "code",
   "execution_count": 101,
   "id": "446502d3",
   "metadata": {
    "hidden": true
   },
   "outputs": [
    {
     "data": {
      "image/png": "[encoded data removed]",
      "text/plain": [
       "<Figure size 1000x600 with 1 Axes>"
      ]
     },
     "metadata": {},
     "output_type": "display_data"
    }
   ],
   "source": [
    "price_rep_plt(df, 5)"
   ]
  },
  {
   "cell_type": "code",
   "execution_count": 98,
   "id": "edbc2f28",
   "metadata": {
    "hidden": true
   },
   "outputs": [
    {
     "data": {
      "image/png": "[encoded data removed]",
      "text/plain": [
       "<Figure size 1000x600 with 1 Axes>"
      ]
     },
     "metadata": {},
     "output_type": "display_data"
    }
   ],
   "source": [
    "\n",
    "price_rep_plt(df, 10)\n"
   ]
  },
  {
   "cell_type": "code",
   "execution_count": 99,
   "id": "23f580d2",
   "metadata": {
    "hidden": true
   },
   "outputs": [
    {
     "data": {
      "image/png": "[encoded data removed]",
      "text/plain": [
       "<Figure size 1000x600 with 1 Axes>"
      ]
     },
     "metadata": {},
     "output_type": "display_data"
    }
   ],
   "source": [
    "price_rep_plt(df, 30)"
   ]
  },
  {
   "cell_type": "code",
   "execution_count": 118,
   "id": "254b9989",
   "metadata": {
    "hidden": true
   },
   "outputs": [
    {
     "name": "stdout",
     "output_type": "stream",
     "text": [
      "\u001b[90m-----------------------------------\u001b[0m \u001b[31mproducts\u001b[0m \u001b[90m-----------------------------------\u001b[0m\n",
      "     id_prod   price  categ     Price Group\n",
      "0     0_1421   19.99      0  (-1.301, 29.1]\n",
      "1     0_1368    5.13      0  (-1.301, 29.1]\n",
      "2      0_731   17.99      0  (-1.301, 29.1]\n",
      "3      1_587    4.99      1  (-1.301, 29.1]\n",
      "4     0_1507    3.99      0  (-1.301, 29.1]\n",
      "...      ...     ...    ...             ...\n",
      "3282    2_23  115.99      2   (89.3, 119.4]\n",
      "3283   0_146   17.14      0  (-1.301, 29.1]\n",
      "3284   0_802   11.22      0  (-1.301, 29.1]\n",
      "3285   1_140   38.56      1    (29.1, 59.2]\n",
      "3286  0_1920   25.16      0  (-1.301, 29.1]\n",
      "\n",
      "[3287 rows x 4 columns]\n",
      "\u001b[90m--------------------------------------------------------------------------------\u001b[0m\n",
      "\n"
     ]
    }
   ],
   "source": [
    "products.print()"
   ]
  },
  {
   "cell_type": "code",
   "execution_count": 120,
   "id": "ae5c14e3",
   "metadata": {
    "hidden": true
   },
   "outputs": [
    {
     "name": "stdout",
     "output_type": "stream",
     "text": [
      "\u001b[90m-----------------------------------\u001b[0m \u001b[31mproducts\u001b[0m \u001b[90m-----------------------------------\u001b[0m\n",
      "Empty DataFrame\n",
      "Columns: [id_prod, price, categ, Price Group]\n",
      "Index: []\n",
      "\u001b[90m--------------------------------------------------------------------------------\u001b[0m\n",
      "\n"
     ]
    }
   ],
   "source": [
    "products.filter_out('categ', lambda x: x == 0 or x == 1 or x == 2).print()"
   ]
  },
  {
   "cell_type": "markdown",
   "id": "ef585d51",
   "metadata": {
    "hidden": true
   },
   "source": [
    "column category OK, only 0, 1, 2"
   ]
  },
  {
   "cell_type": "markdown",
   "id": "82876257",
   "metadata": {},
   "source": [
    "# Exploring invalid data in transactions\n"
   ]
  },
  {
   "cell_type": "code",
   "execution_count": 125,
   "id": "47909fe2",
   "metadata": {},
   "outputs": [
    {
     "name": "stdout",
     "output_type": "stream",
     "text": [
      "id_prod       object\n",
      "date          object\n",
      "session_id    object\n",
      "client_id     object\n",
      "dtype: object \n",
      "\n",
      "\u001b[90m---------------------------------\u001b[0m \u001b[92mtransactions\u001b[0m \u001b[90m---------------------------------\u001b[0m\n",
      "       id_prod                        date session_id client_id\n",
      "0       0_1483  2021-04-10 18:37:28.723910    s_18746    c_4450\n",
      "1        2_226  2022-02-03 01:55:53.276402   s_159142     c_277\n",
      "2        1_374  2021-09-23 15:13:46.938559    s_94290    c_4270\n",
      "3       0_2186  2021-10-17 03:27:18.783634   s_105936    c_4597\n",
      "4       0_1351  2021-07-17 20:34:25.800563    s_63642    c_1242\n",
      "...        ...                         ...        ...       ...\n",
      "337011   1_671  2021-05-28 12:35:46.214839    s_40720    c_3454\n",
      "337012   0_759  2021-06-19 00:19:23.917703    s_50568    c_6268\n",
      "337013  0_1256  2021-03-16 17:31:59.442007     s_7219    c_4137\n",
      "337014   2_227  2021-10-30 16:50:15.997750   s_112349       c_5\n",
      "337015  0_1417  2021-06-26 14:38:19.732946    s_54117    c_6714\n",
      "\n",
      "[337016 rows x 4 columns]\n",
      "\u001b[90m--------------------------------------------------------------------------------\u001b[0m\n",
      "\n",
      "\u001b[90m---------------------------------\u001b[0m \u001b[31mtransactions\u001b[0m \u001b[90m---------------------------------\u001b[0m\n",
      "       id_prod                             date session_id client_id\n",
      "1431       T_0  test_2021-03-01 02:30:02.237420        s_0      ct_1\n",
      "2365       T_0  test_2021-03-01 02:30:02.237446        s_0      ct_1\n",
      "2895       T_0  test_2021-03-01 02:30:02.237414        s_0      ct_1\n",
      "5955       T_0  test_2021-03-01 02:30:02.237441        s_0      ct_0\n",
      "7283       T_0  test_2021-03-01 02:30:02.237434        s_0      ct_1\n",
      "...        ...                              ...        ...       ...\n",
      "332594     T_0  test_2021-03-01 02:30:02.237445        s_0      ct_0\n",
      "332705     T_0  test_2021-03-01 02:30:02.237423        s_0      ct_1\n",
      "332730     T_0  test_2021-03-01 02:30:02.237421        s_0      ct_1\n",
      "333442     T_0  test_2021-03-01 02:30:02.237431        s_0      ct_1\n",
      "335279     T_0  test_2021-03-01 02:30:02.237430        s_0      ct_0\n",
      "\n",
      "[200 rows x 4 columns]\n",
      "\u001b[90m--------------------------------------------------------------------------------\u001b[0m\n",
      "\n",
      "\u001b[90m---------------------------------\u001b[0m \u001b[31mtransactions\u001b[0m \u001b[90m---------------------------------\u001b[0m\n",
      "       id_prod                             date session_id client_id\n",
      "1431       T_0  test_2021-03-01 02:30:02.237420        s_0      ct_1\n",
      "2365       T_0  test_2021-03-01 02:30:02.237446        s_0      ct_1\n",
      "2895       T_0  test_2021-03-01 02:30:02.237414        s_0      ct_1\n",
      "5955       T_0  test_2021-03-01 02:30:02.237441        s_0      ct_0\n",
      "7283       T_0  test_2021-03-01 02:30:02.237434        s_0      ct_1\n",
      "...        ...                              ...        ...       ...\n",
      "332594     T_0  test_2021-03-01 02:30:02.237445        s_0      ct_0\n",
      "332705     T_0  test_2021-03-01 02:30:02.237423        s_0      ct_1\n",
      "332730     T_0  test_2021-03-01 02:30:02.237421        s_0      ct_1\n",
      "333442     T_0  test_2021-03-01 02:30:02.237431        s_0      ct_1\n",
      "335279     T_0  test_2021-03-01 02:30:02.237430        s_0      ct_0\n",
      "\n",
      "[200 rows x 4 columns]\n",
      "\u001b[90m--------------------------------------------------------------------------------\u001b[0m\n",
      "\n",
      "\u001b[90m---------------------------------\u001b[0m \u001b[31mtransactions\u001b[0m \u001b[90m---------------------------------\u001b[0m\n",
      "       id_prod                             date session_id client_id\n",
      "1431       T_0  test_2021-03-01 02:30:02.237420        s_0      ct_1\n",
      "2365       T_0  test_2021-03-01 02:30:02.237446        s_0      ct_1\n",
      "2895       T_0  test_2021-03-01 02:30:02.237414        s_0      ct_1\n",
      "5955       T_0  test_2021-03-01 02:30:02.237441        s_0      ct_0\n",
      "7283       T_0  test_2021-03-01 02:30:02.237434        s_0      ct_1\n",
      "...        ...                              ...        ...       ...\n",
      "332594     T_0  test_2021-03-01 02:30:02.237445        s_0      ct_0\n",
      "332705     T_0  test_2021-03-01 02:30:02.237423        s_0      ct_1\n",
      "332730     T_0  test_2021-03-01 02:30:02.237421        s_0      ct_1\n",
      "333442     T_0  test_2021-03-01 02:30:02.237431        s_0      ct_1\n",
      "335279     T_0  test_2021-03-01 02:30:02.237430        s_0      ct_0\n",
      "\n",
      "[200 rows x 4 columns]\n",
      "\u001b[90m--------------------------------------------------------------------------------\u001b[0m\n",
      "\n",
      "\u001b[90m---------------------------------\u001b[0m \u001b[31mtransactions\u001b[0m \u001b[90m---------------------------------\u001b[0m\n",
      "       id_prod                             date session_id client_id\n",
      "1431       T_0  test_2021-03-01 02:30:02.237420        s_0      ct_1\n",
      "2365       T_0  test_2021-03-01 02:30:02.237446        s_0      ct_1\n",
      "2895       T_0  test_2021-03-01 02:30:02.237414        s_0      ct_1\n",
      "5955       T_0  test_2021-03-01 02:30:02.237441        s_0      ct_0\n",
      "7283       T_0  test_2021-03-01 02:30:02.237434        s_0      ct_1\n",
      "...        ...                              ...        ...       ...\n",
      "332594     T_0  test_2021-03-01 02:30:02.237445        s_0      ct_0\n",
      "332705     T_0  test_2021-03-01 02:30:02.237423        s_0      ct_1\n",
      "332730     T_0  test_2021-03-01 02:30:02.237421        s_0      ct_1\n",
      "333442     T_0  test_2021-03-01 02:30:02.237431        s_0      ct_1\n",
      "335279     T_0  test_2021-03-01 02:30:02.237430        s_0      ct_0\n",
      "\n",
      "[200 rows x 4 columns]\n",
      "\u001b[90m--------------------------------------------------------------------------------\u001b[0m\n",
      "\n",
      "200\n"
     ]
    }
   ],
   "source": [
    "transactions.types()\n",
    "transactions.print()\n",
    "\n",
    "transactions.not_match('id_prod', r'^[012]_\\d+$').print()\n",
    "transactions.not_match('client_id', r'^c_\\d+$').print()\n",
    "transactions.not_match('session_id', r'^s_[1-9]\\d*$').print()\n",
    "transactions.not_match('date', r'^20[012][0-9]-[01][0-9]-[0123][0-9] [012][0-9]:[0-5][0-9]:[0-5][0-9].\\d{6}$').print()\n",
    "\n",
    "print(transactions.startwith('date', 'test').row)\n"
   ]
  },
  {
   "cell_type": "code",
   "execution_count": null,
   "id": "a13d17f7",
   "metadata": {},
   "outputs": [],
   "source": []
  },
  {
   "cell_type": "markdown",
   "id": "6f65e473",
   "metadata": {},
   "source": [
    "200 problematical rows, with the same id_prod T_0, session_id S_0, client_id ct_1 and ct_0, and date starting with test_"
   ]
  },
  {
   "cell_type": "code",
   "execution_count": 127,
   "id": "00bf3f32",
   "metadata": {},
   "outputs": [
    {
     "name": "stdout",
     "output_type": "stream",
     "text": [
      "       id_prod                        date session_id client_id\n",
      "6235    0_2245  2021-06-17 03:03:12.668129    s_49705    c_1533\n",
      "10802   0_2245  2021-06-16 05:53:01.627491    s_49323    c_7954\n",
      "14051   0_2245  2021-11-24 17:35:59.911427   s_124474    c_5120\n",
      "17486   0_2245  2022-02-28 18:08:49.875709   s_172304    c_4964\n",
      "21078   0_2245  2021-03-01 00:09:29.301897        s_3     c_580\n",
      "...        ...                         ...        ...       ...\n",
      "322710  0_2245  2021-04-06 19:59:19.462288    s_16936    c_4167\n",
      "329417  0_2245  2021-03-30 23:29:02.347672    s_13738    c_7790\n",
      "330490  0_2245  2021-12-03 14:14:40.444177   s_128815    c_6189\n",
      "335531  0_2245  2021-04-27 18:58:47.703374    s_26624    c_1595\n",
      "336220  0_2245  2021-05-01 03:35:03.146305    s_28235    c_5714\n",
      "\n",
      "[103 rows x 4 columns]\n"
     ]
    }
   ],
   "source": [
    "df_filtered = transactions.df[transactions.df['id_prod'].str.contains('0_2245')]\n",
    "print(df_filtered)"
   ]
  },
  {
   "cell_type": "code",
   "execution_count": null,
   "id": "b625298c",
   "metadata": {},
   "outputs": [],
   "source": [
    "Also we will see a id_prod 2245 "
   ]
  },
  {
   "cell_type": "markdown",
   "id": "8f0b47fe",
   "metadata": {},
   "source": [
    "# Others"
   ]
  },
  {
   "cell_type": "code",
   "execution_count": 129,
   "id": "78e9745c",
   "metadata": {},
   "outputs": [
    {
     "name": "stdout",
     "output_type": "stream",
     "text": [
      "\u001b[90m----------------------------------\u001b[0m \u001b[34mcustomers\u001b[0m \u001b[90m-----------------------------------\u001b[0m\n",
      "     client_id sex  birth  age  client_id_int\n",
      "0       c_4410   f   1967   57           4410\n",
      "1       c_7839   f   1975   49           7839\n",
      "2       c_1699   f   1984   40           1699\n",
      "3       c_5961   f   1962   62           5961\n",
      "4       c_5320   m   1943   81           5320\n",
      "...        ...  ..    ...  ...            ...\n",
      "8618    c_7920   m   1956   68           7920\n",
      "8619    c_7403   f   1970   54           7403\n",
      "8620    c_5119   m   1974   50           5119\n",
      "8621    c_5643   f   1968   56           5643\n",
      "8622      c_84   f   1982   42             84\n",
      "\n",
      "[8623 rows x 5 columns]\n",
      "\u001b[90m--------------------------------------------------------------------------------\u001b[0m\n",
      "\n"
     ]
    }
   ],
   "source": [
    "customers.print()"
   ]
  },
  {
   "cell_type": "markdown",
   "id": "c8bf41a3",
   "metadata": {},
   "source": [
    "Plotting the box plot for age distribution\n"
   ]
  },
  {
   "cell_type": "code",
   "execution_count": 132,
   "id": "8cc9d461",
   "metadata": {},
   "outputs": [
    {
     "data": {
      "image/png": "[encoded data removed]",
      "text/plain": [
       "<Figure size 1000x600 with 1 Axes>"
      ]
     },
     "metadata": {},
     "output_type": "display_data"
    }
   ],
   "source": [
    "plt.figure(figsize=(10, 6))\n",
    "plt.boxplot(customers.df['age'], vert=False)  \n",
    "plt.title('Age Distribution of Customers')\n",
    "plt.xlabel('Age')\n",
    "plt.show()"
   ]
  },
  {
   "cell_type": "markdown",
   "id": "4c95b100",
   "metadata": {},
   "source": [
    "Let us try to readjust the year when age = 20\n",
    "By calculating the 25th and 75th percentiles of age for the rest of the population\n"
   ]
  },
  {
   "cell_type": "code",
   "execution_count": 148,
   "id": "27100008",
   "metadata": {},
   "outputs": [
    {
     "data": {
      "image/png": "[encoded data removed]",
      "text/plain": [
       "<Figure size 1000x600 with 1 Axes>"
      ]
     },
     "metadata": {},
     "output_type": "display_data"
    }
   ],
   "source": [
    "current_year = datetime.now().year\n",
    "\n",
    "age_20_indices = customers.df[customers.df['age'] == 20].index\n",
    "\n",
    "age_25th_percentile = np.percentile(customers.df.loc[~customers.df.index.isin(age_20_indices), 'age'], 25)\n",
    "age_75th_percentile = np.percentile(customers.df.loc[~customers.df.index.isin(age_20_indices), 'age'], 75)\n",
    "\n",
    "# Generate random ages within the 25th to 75th percentile range for the overrepresented age group\n",
    "np.random.seed(42)\n",
    "adjusted_ages = np.random.randint(age_25th_percentile, age_75th_percentile, size=len(age_20_indices))\n",
    "customers.df.loc[age_20_indices, 'birth'] = current_year - adjusted_ages\n",
    "customers.df['age'] = current_year - customers.df['birth']\n",
    "\n",
    "plt.figure(figsize=(10, 6))\n",
    "plt.hist(customers.df['age'], bins=30, color='skyblue', edgecolor='black')\n",
    "plt.title('Adjusted Age Distribution of Customers')\n",
    "plt.xlabel('Age')\n",
    "plt.ylabel('Frequency')\n",
    "plt.show()"
   ]
  },
  {
   "cell_type": "code",
   "execution_count": 150,
   "id": "4ee68d0c",
   "metadata": {},
   "outputs": [
    {
     "data": {
      "text/html": [
       "<div>\n",
       "<style scoped>\n",
       "    .dataframe tbody tr th:only-of-type {\n",
       "        vertical-align: middle;\n",
       "    }\n",
       "\n",
       "    .dataframe tbody tr th {\n",
       "        vertical-align: top;\n",
       "    }\n",
       "\n",
       "    .dataframe thead th {\n",
       "        text-align: right;\n",
       "    }\n",
       "</style>\n",
       "<table border=\"1\" class=\"dataframe\">\n",
       "  <thead>\n",
       "    <tr style=\"text-align: right;\">\n",
       "      <th></th>\n",
       "      <th>client_id</th>\n",
       "      <th>sex</th>\n",
       "      <th>birth</th>\n",
       "      <th>age</th>\n",
       "      <th>client_id_int</th>\n",
       "    </tr>\n",
       "  </thead>\n",
       "  <tbody>\n",
       "    <tr>\n",
       "      <th>2402</th>\n",
       "      <td>c_3927</td>\n",
       "      <td>f</td>\n",
       "      <td>2003</td>\n",
       "      <td>21</td>\n",
       "      <td>3927</td>\n",
       "    </tr>\n",
       "    <tr>\n",
       "      <th>3225</th>\n",
       "      <td>c_3633</td>\n",
       "      <td>m</td>\n",
       "      <td>2003</td>\n",
       "      <td>21</td>\n",
       "      <td>3633</td>\n",
       "    </tr>\n",
       "    <tr>\n",
       "      <th>6998</th>\n",
       "      <td>c_5306</td>\n",
       "      <td>f</td>\n",
       "      <td>2003</td>\n",
       "      <td>21</td>\n",
       "      <td>5306</td>\n",
       "    </tr>\n",
       "    <tr>\n",
       "      <th>8432</th>\n",
       "      <td>c_3783</td>\n",
       "      <td>m</td>\n",
       "      <td>2003</td>\n",
       "      <td>21</td>\n",
       "      <td>3783</td>\n",
       "    </tr>\n",
       "    <tr>\n",
       "      <th>6501</th>\n",
       "      <td>c_8567</td>\n",
       "      <td>m</td>\n",
       "      <td>2003</td>\n",
       "      <td>21</td>\n",
       "      <td>8567</td>\n",
       "    </tr>\n",
       "    <tr>\n",
       "      <th>...</th>\n",
       "      <td>...</td>\n",
       "      <td>...</td>\n",
       "      <td>...</td>\n",
       "      <td>...</td>\n",
       "      <td>...</td>\n",
       "    </tr>\n",
       "    <tr>\n",
       "      <th>5138</th>\n",
       "      <td>c_7232</td>\n",
       "      <td>f</td>\n",
       "      <td>1930</td>\n",
       "      <td>94</td>\n",
       "      <td>7232</td>\n",
       "    </tr>\n",
       "    <tr>\n",
       "      <th>1086</th>\n",
       "      <td>c_3218</td>\n",
       "      <td>f</td>\n",
       "      <td>1930</td>\n",
       "      <td>94</td>\n",
       "      <td>3218</td>\n",
       "    </tr>\n",
       "    <tr>\n",
       "      <th>418</th>\n",
       "      <td>c_5302</td>\n",
       "      <td>m</td>\n",
       "      <td>1929</td>\n",
       "      <td>95</td>\n",
       "      <td>5302</td>\n",
       "    </tr>\n",
       "    <tr>\n",
       "      <th>2491</th>\n",
       "      <td>c_8362</td>\n",
       "      <td>f</td>\n",
       "      <td>1929</td>\n",
       "      <td>95</td>\n",
       "      <td>8362</td>\n",
       "    </tr>\n",
       "    <tr>\n",
       "      <th>4569</th>\n",
       "      <td>c_577</td>\n",
       "      <td>m</td>\n",
       "      <td>1929</td>\n",
       "      <td>95</td>\n",
       "      <td>577</td>\n",
       "    </tr>\n",
       "  </tbody>\n",
       "</table>\n",
       "<p>8623 rows × 5 columns</p>\n",
       "</div>"
      ],
      "text/plain": [
       "     client_id sex  birth  age  client_id_int\n",
       "2402    c_3927   f   2003   21           3927\n",
       "3225    c_3633   m   2003   21           3633\n",
       "6998    c_5306   f   2003   21           5306\n",
       "8432    c_3783   m   2003   21           3783\n",
       "6501    c_8567   m   2003   21           8567\n",
       "...        ...  ..    ...  ...            ...\n",
       "5138    c_7232   f   1930   94           7232\n",
       "1086    c_3218   f   1930   94           3218\n",
       "418     c_5302   m   1929   95           5302\n",
       "2491    c_8362   f   1929   95           8362\n",
       "4569     c_577   m   1929   95            577\n",
       "\n",
       "[8623 rows x 5 columns]"
      ]
     },
     "execution_count": 150,
     "metadata": {},
     "output_type": "execute_result"
    }
   ],
   "source": [
    "\n",
    "customers_sorted_by_age = customers.df.sort_values(by='age')\n",
    "customers_sorted_by_age "
   ]
  },
  {
   "cell_type": "code",
   "execution_count": 157,
   "id": "8aedea6e",
   "metadata": {},
   "outputs": [
    {
     "name": "stdout",
     "output_type": "stream",
     "text": [
      "       id_prod     Price Group\n",
      "19685   0_1016    (29.1, 59.2]\n",
      "31123   0_1780  (-1.301, 29.1]\n",
      "81098   0_1062  (-1.301, 29.1]\n",
      "88424   0_1119  (-1.301, 29.1]\n",
      "90239   0_1014  (-1.301, 29.1]\n",
      "93644      1_0    (29.1, 59.2]\n",
      "114736  0_1318  (-1.301, 29.1]\n",
      "126173  0_1800  (-1.301, 29.1]\n",
      "144352  0_1645  (-1.301, 29.1]\n",
      "159469   0_322  (-1.301, 29.1]\n",
      "162441  0_1620  (-1.301, 29.1]\n",
      "162915  0_1025  (-1.301, 29.1]\n",
      "178545    2_87  (209.7, 239.8]\n",
      "195861   1_394    (29.1, 59.2]\n",
      "205213    2_72  (119.4, 149.5]\n",
      "228047   0_310  (-1.301, 29.1]\n",
      "249140  0_1624  (-1.301, 29.1]\n",
      "255822   0_525  (-1.301, 29.1]\n",
      "261669    2_86  (119.4, 149.5]\n",
      "277490   0_299  (-1.301, 29.1]\n",
      "312274   0_510  (-1.301, 29.1]\n",
      "318033  0_2308  (-1.301, 29.1]\n",
      "(22, 2)\n",
      "19685     0_1016\n",
      "31123     0_1780\n",
      "81098     0_1062\n",
      "88424     0_1119\n",
      "90239     0_1014\n",
      "93644        1_0\n",
      "114736    0_1318\n",
      "126173    0_1800\n",
      "144352    0_1645\n",
      "159469     0_322\n",
      "162441    0_1620\n",
      "162915    0_1025\n",
      "178545      2_87\n",
      "195861     1_394\n",
      "205213      2_72\n",
      "228047     0_310\n",
      "249140    0_1624\n",
      "255822     0_525\n",
      "261669      2_86\n",
      "277490     0_299\n",
      "312274     0_510\n",
      "318033    0_2308\n",
      "Name: id_prod, dtype: object\n",
      "       client_id  age  client_id_int\n",
      "29516     c_8253   23           8253\n",
      "99355     c_3789   27           3789\n",
      "108189    c_4406   26           4406\n",
      "109402    c_2706   57           2706\n",
      "112024    c_3443   65           3443\n",
      "123387    c_4447   68           4447\n",
      "123641    c_3017   32           3017\n",
      "129598    c_4086   32           4086\n",
      "155507    c_6930   45           6930\n",
      "158748    c_4358   25           4358\n",
      "192383    c_8381   59           8381\n",
      "195018    c_1223   61           1223\n",
      "242677    c_6862   22           6862\n",
      "246047    c_5245   36           5245\n",
      "250919    c_5223   21           5223\n",
      "255317    c_6735   34           6735\n",
      "259617     c_862   68            862\n",
      "269053    c_7584   64           7584\n",
      "303133      c_90   23             90\n",
      "303877     c_587   31            587\n",
      "333985    c_3526   68           3526\n",
      "(21, 3)\n",
      "     client_id id_prod sex  birth      price\n",
      "8600      ct_0     T_0   f   2001    -106.00\n",
      "8601      ct_1     T_0   m   2001     -94.00\n",
      "7918    c_8140  0_1480   m   1971       4.15\n",
      "7889    c_8114  0_1509   m   1962       4.99\n",
      "750     c_1675  0_2134   f   2000       5.57\n",
      "...        ...     ...  ..    ...        ...\n",
      "7715    c_7959   1_638   f   1974    2564.25\n",
      "2724    c_3454  0_1726   m   1969   54442.92\n",
      "6337    c_6714  0_1533   f   1968   73197.34\n",
      "4388    c_4958     2_4   m   1999  144257.21\n",
      "677     c_1609  0_1191   m   1980  162007.34\n",
      "\n",
      "[8602 rows x 5 columns]\n",
      "\n",
      "       id_prod                        date session_id client_id\n",
      "6235    0_2245  2021-06-17 03:03:12.668129    s_49705    c_1533\n",
      "10802   0_2245  2021-06-16 05:53:01.627491    s_49323    c_7954\n",
      "14051   0_2245  2021-11-24 17:35:59.911427   s_124474    c_5120\n",
      "17486   0_2245  2022-02-28 18:08:49.875709   s_172304    c_4964\n",
      "21078   0_2245  2021-03-01 00:09:29.301897        s_3     c_580\n",
      "...        ...                         ...        ...       ...\n",
      "322710  0_2245  2021-04-06 19:59:19.462288    s_16936    c_4167\n",
      "329417  0_2245  2021-03-30 23:29:02.347672    s_13738    c_7790\n",
      "330490  0_2245  2021-12-03 14:14:40.444177   s_128815    c_6189\n",
      "335531  0_2245  2021-04-27 18:58:47.703374    s_26624    c_1595\n",
      "336220  0_2245  2021-05-01 03:35:03.146305    s_28235    c_5714\n",
      "\n",
      "[103 rows x 4 columns]\n",
      "\u001b[90m---------------------------------\u001b[0m \u001b[92mtransactions\u001b[0m \u001b[90m---------------------------------\u001b[0m\n",
      "       id_prod                        date session_id client_id\n",
      "0       0_1483  2021-04-10 18:37:28.723910    s_18746    c_4450\n",
      "1        2_226  2022-02-03 01:55:53.276402   s_159142     c_277\n",
      "2        1_374  2021-09-23 15:13:46.938559    s_94290    c_4270\n",
      "3       0_2186  2021-10-17 03:27:18.783634   s_105936    c_4597\n",
      "4       0_1351  2021-07-17 20:34:25.800563    s_63642    c_1242\n",
      "...        ...                         ...        ...       ...\n",
      "337011   1_671  2021-05-28 12:35:46.214839    s_40720    c_3454\n",
      "337012   0_759  2021-06-19 00:19:23.917703    s_50568    c_6268\n",
      "337013  0_1256  2021-03-16 17:31:59.442007     s_7219    c_4137\n",
      "337014   2_227  2021-10-30 16:50:15.997750   s_112349       c_5\n",
      "337015  0_1417  2021-06-26 14:38:19.732946    s_54117    c_6714\n",
      "\n",
      "[337016 rows x 4 columns]\n",
      "\u001b[90m--------------------------------------------------------------------------------\u001b[0m\n",
      "\n",
      "Empty DataFrame\n",
      "Columns: [id_prod, price, categ, Price Group, date, session_id, client_id, _merge]\n",
      "Index: []\n"
     ]
    }
   ],
   "source": [
    "\n",
    "    \n",
    "    \n",
    "    \n",
    "    \n",
    "    \n",
    "    \n",
    "# # Step 1: Merge transactions and products\n",
    "transactions_products = pd.merge(transactions.df, products.df, on='id_prod', how='inner')\n",
    "# print(transactions_products.shape)\n",
    "\n",
    "# Step 2: Merge the result with customers\n",
    "final_df = pd.merge(transactions_products, customers.df, on='client_id', how='inner')\n",
    "\n",
    "# print(final_df.shape)\n",
    "# print(final_df)\n",
    "\n",
    "ca = final_df['price'].sum()\n",
    "# print(\"Chiffre d'affaire:\", ca)\n",
    "\n",
    "# Book not sold\n",
    "merged_df = pd.merge(products.df, transactions.df, on='id_prod', how='left', indicator=True)\n",
    "not_sold_df = merged_df[merged_df['_merge'] == 'left_only'].drop(columns=['price', 'categ', 'date', 'session_id', 'client_id', '_merge'])\n",
    "print(not_sold_df)\n",
    "print(not_sold_df.shape)\n",
    "not_sold_df['id_prod'].to_csv('book_never_sold.csv', index=False)\n",
    "\n",
    "\n",
    "# Customers who havn't made any transactions\n",
    "merged_df = pd.merge(customers.df, transactions.df, on='client_id', how='left', indicator=True)\n",
    "not_customers = merged_df[merged_df['_merge'] == 'left_only'].drop(columns=['date', 'session_id', 'sex', 'birth', 'id_prod', '_merge'])\n",
    "print(not_customers)\n",
    "print(not_customers.shape)\n",
    "\n",
    "\n",
    "\n",
    "# not_customers.to_csv('not_customers.csv', index=False)\n",
    "\n",
    "# Group by 'client_id' and sum 'price', reset index to make 'client_id' a column again\n",
    "aggregated_df = final_df.groupby('client_id', as_index=False)['price'].sum()\n",
    "aggregated_df = final_df.groupby('client_id').agg({\n",
    "'id_prod': 'last', \n",
    "'sex': 'first',\n",
    "'birth': 'first',\n",
    "'price': 'sum'    \n",
    "}).reset_index()\n",
    "\n",
    "\n",
    "print(aggregated_df.sort_values(by='price', ascending=True))\n",
    "N()\n",
    "\n",
    "df_filtered = transactions.df[transactions.df['id_prod'].str.contains('0_2245')]\n",
    "print(df_filtered)\n",
    "\n",
    "transactions.print()\n",
    "merged_df = pd.merge(products.df, df_filtered, on='id_prod', how='inner', indicator=True)\n",
    "print(merged_df)\n",
    "merged_df = merged_df[merged_df['_merge'] == 'left_only'].drop(columns=['price', 'categ', 'date', 'session_id', 'client_id', '_merge'])"
   ]
  },
  {
   "cell_type": "code",
   "execution_count": null,
   "id": "15a2f7e1",
   "metadata": {},
   "outputs": [],
   "source": []
  },
  {
   "cell_type": "code",
   "execution_count": null,
   "id": "9ed4337b",
   "metadata": {},
   "outputs": [],
   "source": []
  },
  {
   "cell_type": "code",
   "execution_count": null,
   "id": "898bcf75",
   "metadata": {},
   "outputs": [],
   "source": []
  }
 ],
 "metadata": {
  "kernelspec": {
   "display_name": "Python 3 (ipykernel)",
   "language": "python",
   "name": "python3"
  },
  "language_info": {
   "codemirror_mode": {
    "name": "ipython",
    "version": 3
   },
   "file_extension": ".py",
   "mimetype": "text/x-python",
   "name": "python",
   "nbconvert_exporter": "python",
   "pygments_lexer": "ipython3",
   "version": "3.10.6"
  },
  "toc": {
   "base_numbering": 1,
   "nav_menu": {},
   "number_sections": true,
   "sideBar": true,
   "skip_h1_title": false,
   "title_cell": "Table of Contents",
   "title_sidebar": "Contents",
   "toc_cell": false,
   "toc_position": {},
   "toc_section_display": true,
   "toc_window_display": false
  }
 },
 "nbformat": 4,
 "nbformat_minor": 5
}
